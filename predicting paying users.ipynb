{
 "cells": [
  {
   "cell_type": "code",
   "execution_count": 1,
   "id": "6f0e0e91",
   "metadata": {},
   "outputs": [],
   "source": [
    "import numpy as np\n",
    "import pandas as pd\n",
    "import itertools\n",
    "from matplotlib import pyplot as plt"
   ]
  },
  {
   "cell_type": "code",
   "execution_count": 2,
   "id": "cb766838",
   "metadata": {},
   "outputs": [
    {
     "data": {
      "text/plain": [
       "{'X_train':          sessions1  sessions2  sessions3  sessions4  sessions5  sessions6  \\\n",
       " 941782           1          1         19         31         61        109   \n",
       " 466960           1          5          5          5          5          5   \n",
       " 704609           6         24         39         46         61         66   \n",
       " 973929           8         18         33         45         52         62   \n",
       " 973936           0          0          0          0          0          0   \n",
       " ...            ...        ...        ...        ...        ...        ...   \n",
       " 856396           2          2          2          2          2          2   \n",
       " 1169917          0          0          0          0          1          1   \n",
       " 1048916          4         35         42         47         71         78   \n",
       " 992719           2          2          2          2          2          2   \n",
       " 426086           2          2          2          2          2          2   \n",
       " \n",
       "          sessions7  sessions8  launches1  launches2  ...  num_payments7  \\\n",
       " 941782         136        147          1          1  ...              0   \n",
       " 466960           5          5          1          6  ...              0   \n",
       " 704609          68         68          6         24  ...              0   \n",
       " 973929          69         71          8         18  ...              0   \n",
       " 973936           0          0          1          1  ...              0   \n",
       " ...            ...        ...        ...        ...  ...            ...   \n",
       " 856396           2          2          3          3  ...              0   \n",
       " 1169917          1          1          0          0  ...              0   \n",
       " 1048916         81         85          4         35  ...              0   \n",
       " 992719           2          2          3          3  ...              0   \n",
       " 426086           2          2          3          3  ...              0   \n",
       " \n",
       "          num_payments8  sum_payments1  sum_payments2  sum_payments3  \\\n",
       " 941782               0              0              0              0   \n",
       " 466960               0              0              0              0   \n",
       " 704609               0              0              0              0   \n",
       " 973929               0              0              0              0   \n",
       " 973936               0              0              0              0   \n",
       " ...                ...            ...            ...            ...   \n",
       " 856396               0              0              0              0   \n",
       " 1169917              0              0              0              0   \n",
       " 1048916              0              0              0              0   \n",
       " 992719               0              0              0              0   \n",
       " 426086               0              0              0              0   \n",
       " \n",
       "          sum_payments4  sum_payments5  sum_payments6  sum_payments7  \\\n",
       " 941782               0              0              0              0   \n",
       " 466960               0              0              0              0   \n",
       " 704609               0              0              0              0   \n",
       " 973929               0              0              0              0   \n",
       " 973936               0              0              0              0   \n",
       " ...                ...            ...            ...            ...   \n",
       " 856396               0              0              0              0   \n",
       " 1169917              0              0              0              0   \n",
       " 1048916              0              0              0              0   \n",
       " 992719               0              0              0              0   \n",
       " 426086               0              0              0              0   \n",
       " \n",
       "          sum_payments8  \n",
       " 941782               0  \n",
       " 466960               0  \n",
       " 704609               0  \n",
       " 973929               0  \n",
       " 973936               0  \n",
       " ...                ...  \n",
       " 856396               0  \n",
       " 1169917              0  \n",
       " 1048916              0  \n",
       " 992719               0  \n",
       " 426086               0  \n",
       " \n",
       " [824480 rows x 32 columns],\n",
       " 'y_train': 941782     0\n",
       " 466960     0\n",
       " 704609     0\n",
       " 973929     0\n",
       " 973936     0\n",
       "           ..\n",
       " 856396     0\n",
       " 1169917    0\n",
       " 1048916    0\n",
       " 992719     0\n",
       " 426086     0\n",
       " Name: ltvDay90, Length: 824480, dtype: int64,\n",
       " 'X_valid':          sessions1  sessions2  sessions3  sessions4  sessions5  sessions6  \\\n",
       " 594554           3          3          3          3          3          3   \n",
       " 911371           2          2          2          2          2          2   \n",
       " 287620           1          1          1          1          1          1   \n",
       " 432585           0          6         13         14         15         15   \n",
       " 432251           0          0          0          0          0          0   \n",
       " ...            ...        ...        ...        ...        ...        ...   \n",
       " 726730           4          4          4          4          4          4   \n",
       " 726737           1          1          1          1          1          1   \n",
       " 726738           1          1          1          1          1          1   \n",
       " 1091082          2          4          8         15         23         27   \n",
       " 1097427          1          1          1          1          1          1   \n",
       " \n",
       "          sessions7  sessions8  launches1  launches2  ...  num_payments7  \\\n",
       " 594554           3          3          4          4  ...              0   \n",
       " 911371           2          2          2          2  ...              0   \n",
       " 287620           1          1          2          2  ...              0   \n",
       " 432585          16         16          0          6  ...              0   \n",
       " 432251           0          0          1          1  ...              0   \n",
       " ...            ...        ...        ...        ...  ...            ...   \n",
       " 726730           4          4          4          5  ...              0   \n",
       " 726737           1          1          2          2  ...              0   \n",
       " 726738           1          1          2          2  ...              0   \n",
       " 1091082         35         37          2          4  ...              0   \n",
       " 1097427          1          1          2          2  ...              0   \n",
       " \n",
       "          num_payments8  sum_payments1  sum_payments2  sum_payments3  \\\n",
       " 594554               0              0              0              0   \n",
       " 911371               0              0              0              0   \n",
       " 287620               0              0              0              0   \n",
       " 432585               0              0              0              0   \n",
       " 432251               0              0              0              0   \n",
       " ...                ...            ...            ...            ...   \n",
       " 726730               0              0              0              0   \n",
       " 726737               0              0              0              0   \n",
       " 726738               0              0              0              0   \n",
       " 1091082              0              0              0              0   \n",
       " 1097427              0              0              0              0   \n",
       " \n",
       "          sum_payments4  sum_payments5  sum_payments6  sum_payments7  \\\n",
       " 594554               0              0              0              0   \n",
       " 911371               0              0              0              0   \n",
       " 287620               0              0              0              0   \n",
       " 432585               0              0              0              0   \n",
       " 432251               0              0              0              0   \n",
       " ...                ...            ...            ...            ...   \n",
       " 726730               0              0              0              0   \n",
       " 726737               0              0              0              0   \n",
       " 726738               0              0              0              0   \n",
       " 1091082              0              0              0              0   \n",
       " 1097427              0              0              0              0   \n",
       " \n",
       "          sum_payments8  \n",
       " 594554               0  \n",
       " 911371               0  \n",
       " 287620               0  \n",
       " 432585               0  \n",
       " 432251               0  \n",
       " ...                ...  \n",
       " 726730               0  \n",
       " 726737               0  \n",
       " 726738               0  \n",
       " 1091082              0  \n",
       " 1097427              0  \n",
       " \n",
       " [353349 rows x 32 columns],\n",
       " 'y_valid': 594554     0\n",
       " 911371     0\n",
       " 287620     0\n",
       " 432585     0\n",
       " 432251     0\n",
       "           ..\n",
       " 726730     0\n",
       " 726737     0\n",
       " 726738     0\n",
       " 1091082    0\n",
       " 1097427    0\n",
       " Name: ltvDay90, Length: 353349, dtype: int64}"
      ]
     },
     "execution_count": 2,
     "metadata": {},
     "output_type": "execute_result"
    }
   ],
   "source": [
    "df = pd.read_pickle('mobile_app_launches_sessions_payments.pkl')\n",
    "df"
   ]
  },
  {
   "cell_type": "code",
   "execution_count": 3,
   "id": "2ef4917d",
   "metadata": {},
   "outputs": [],
   "source": [
    "# how to read data\n",
    "import pickle\n",
    "with open('mobile_app_launches_sessions_payments.pkl', 'rb') as f:\n",
    "    shared_data = pickle.load(f)\n",
    "X_train, y_train = shared_data['X_train'], shared_data['y_train']\n",
    "X_valid, y_valid = shared_data['X_valid'], shared_data['y_valid']"
   ]
  },
  {
   "cell_type": "code",
   "execution_count": 4,
   "id": "3ac7242b",
   "metadata": {},
   "outputs": [
    {
     "data": {
      "text/html": [
       "<div>\n",
       "<style scoped>\n",
       "    .dataframe tbody tr th:only-of-type {\n",
       "        vertical-align: middle;\n",
       "    }\n",
       "\n",
       "    .dataframe tbody tr th {\n",
       "        vertical-align: top;\n",
       "    }\n",
       "\n",
       "    .dataframe thead th {\n",
       "        text-align: right;\n",
       "    }\n",
       "</style>\n",
       "<table border=\"1\" class=\"dataframe\">\n",
       "  <thead>\n",
       "    <tr style=\"text-align: right;\">\n",
       "      <th></th>\n",
       "      <th>sessions1</th>\n",
       "      <th>sessions2</th>\n",
       "      <th>sessions3</th>\n",
       "      <th>sessions4</th>\n",
       "      <th>sessions5</th>\n",
       "      <th>sessions6</th>\n",
       "      <th>sessions7</th>\n",
       "      <th>sessions8</th>\n",
       "      <th>launches1</th>\n",
       "      <th>launches2</th>\n",
       "      <th>...</th>\n",
       "      <th>num_payments7</th>\n",
       "      <th>num_payments8</th>\n",
       "      <th>sum_payments1</th>\n",
       "      <th>sum_payments2</th>\n",
       "      <th>sum_payments3</th>\n",
       "      <th>sum_payments4</th>\n",
       "      <th>sum_payments5</th>\n",
       "      <th>sum_payments6</th>\n",
       "      <th>sum_payments7</th>\n",
       "      <th>sum_payments8</th>\n",
       "    </tr>\n",
       "  </thead>\n",
       "  <tbody>\n",
       "    <tr>\n",
       "      <th>941782</th>\n",
       "      <td>1</td>\n",
       "      <td>1</td>\n",
       "      <td>19</td>\n",
       "      <td>31</td>\n",
       "      <td>61</td>\n",
       "      <td>109</td>\n",
       "      <td>136</td>\n",
       "      <td>147</td>\n",
       "      <td>1</td>\n",
       "      <td>1</td>\n",
       "      <td>...</td>\n",
       "      <td>0</td>\n",
       "      <td>0</td>\n",
       "      <td>0</td>\n",
       "      <td>0</td>\n",
       "      <td>0</td>\n",
       "      <td>0</td>\n",
       "      <td>0</td>\n",
       "      <td>0</td>\n",
       "      <td>0</td>\n",
       "      <td>0</td>\n",
       "    </tr>\n",
       "    <tr>\n",
       "      <th>466960</th>\n",
       "      <td>1</td>\n",
       "      <td>5</td>\n",
       "      <td>5</td>\n",
       "      <td>5</td>\n",
       "      <td>5</td>\n",
       "      <td>5</td>\n",
       "      <td>5</td>\n",
       "      <td>5</td>\n",
       "      <td>1</td>\n",
       "      <td>6</td>\n",
       "      <td>...</td>\n",
       "      <td>0</td>\n",
       "      <td>0</td>\n",
       "      <td>0</td>\n",
       "      <td>0</td>\n",
       "      <td>0</td>\n",
       "      <td>0</td>\n",
       "      <td>0</td>\n",
       "      <td>0</td>\n",
       "      <td>0</td>\n",
       "      <td>0</td>\n",
       "    </tr>\n",
       "    <tr>\n",
       "      <th>704609</th>\n",
       "      <td>6</td>\n",
       "      <td>24</td>\n",
       "      <td>39</td>\n",
       "      <td>46</td>\n",
       "      <td>61</td>\n",
       "      <td>66</td>\n",
       "      <td>68</td>\n",
       "      <td>68</td>\n",
       "      <td>6</td>\n",
       "      <td>24</td>\n",
       "      <td>...</td>\n",
       "      <td>0</td>\n",
       "      <td>0</td>\n",
       "      <td>0</td>\n",
       "      <td>0</td>\n",
       "      <td>0</td>\n",
       "      <td>0</td>\n",
       "      <td>0</td>\n",
       "      <td>0</td>\n",
       "      <td>0</td>\n",
       "      <td>0</td>\n",
       "    </tr>\n",
       "    <tr>\n",
       "      <th>973929</th>\n",
       "      <td>8</td>\n",
       "      <td>18</td>\n",
       "      <td>33</td>\n",
       "      <td>45</td>\n",
       "      <td>52</td>\n",
       "      <td>62</td>\n",
       "      <td>69</td>\n",
       "      <td>71</td>\n",
       "      <td>8</td>\n",
       "      <td>18</td>\n",
       "      <td>...</td>\n",
       "      <td>0</td>\n",
       "      <td>0</td>\n",
       "      <td>0</td>\n",
       "      <td>0</td>\n",
       "      <td>0</td>\n",
       "      <td>0</td>\n",
       "      <td>0</td>\n",
       "      <td>0</td>\n",
       "      <td>0</td>\n",
       "      <td>0</td>\n",
       "    </tr>\n",
       "    <tr>\n",
       "      <th>973936</th>\n",
       "      <td>0</td>\n",
       "      <td>0</td>\n",
       "      <td>0</td>\n",
       "      <td>0</td>\n",
       "      <td>0</td>\n",
       "      <td>0</td>\n",
       "      <td>0</td>\n",
       "      <td>0</td>\n",
       "      <td>1</td>\n",
       "      <td>1</td>\n",
       "      <td>...</td>\n",
       "      <td>0</td>\n",
       "      <td>0</td>\n",
       "      <td>0</td>\n",
       "      <td>0</td>\n",
       "      <td>0</td>\n",
       "      <td>0</td>\n",
       "      <td>0</td>\n",
       "      <td>0</td>\n",
       "      <td>0</td>\n",
       "      <td>0</td>\n",
       "    </tr>\n",
       "    <tr>\n",
       "      <th>...</th>\n",
       "      <td>...</td>\n",
       "      <td>...</td>\n",
       "      <td>...</td>\n",
       "      <td>...</td>\n",
       "      <td>...</td>\n",
       "      <td>...</td>\n",
       "      <td>...</td>\n",
       "      <td>...</td>\n",
       "      <td>...</td>\n",
       "      <td>...</td>\n",
       "      <td>...</td>\n",
       "      <td>...</td>\n",
       "      <td>...</td>\n",
       "      <td>...</td>\n",
       "      <td>...</td>\n",
       "      <td>...</td>\n",
       "      <td>...</td>\n",
       "      <td>...</td>\n",
       "      <td>...</td>\n",
       "      <td>...</td>\n",
       "      <td>...</td>\n",
       "    </tr>\n",
       "    <tr>\n",
       "      <th>856396</th>\n",
       "      <td>2</td>\n",
       "      <td>2</td>\n",
       "      <td>2</td>\n",
       "      <td>2</td>\n",
       "      <td>2</td>\n",
       "      <td>2</td>\n",
       "      <td>2</td>\n",
       "      <td>2</td>\n",
       "      <td>3</td>\n",
       "      <td>3</td>\n",
       "      <td>...</td>\n",
       "      <td>0</td>\n",
       "      <td>0</td>\n",
       "      <td>0</td>\n",
       "      <td>0</td>\n",
       "      <td>0</td>\n",
       "      <td>0</td>\n",
       "      <td>0</td>\n",
       "      <td>0</td>\n",
       "      <td>0</td>\n",
       "      <td>0</td>\n",
       "    </tr>\n",
       "    <tr>\n",
       "      <th>1169917</th>\n",
       "      <td>0</td>\n",
       "      <td>0</td>\n",
       "      <td>0</td>\n",
       "      <td>0</td>\n",
       "      <td>1</td>\n",
       "      <td>1</td>\n",
       "      <td>1</td>\n",
       "      <td>1</td>\n",
       "      <td>0</td>\n",
       "      <td>0</td>\n",
       "      <td>...</td>\n",
       "      <td>0</td>\n",
       "      <td>0</td>\n",
       "      <td>0</td>\n",
       "      <td>0</td>\n",
       "      <td>0</td>\n",
       "      <td>0</td>\n",
       "      <td>0</td>\n",
       "      <td>0</td>\n",
       "      <td>0</td>\n",
       "      <td>0</td>\n",
       "    </tr>\n",
       "    <tr>\n",
       "      <th>1048916</th>\n",
       "      <td>4</td>\n",
       "      <td>35</td>\n",
       "      <td>42</td>\n",
       "      <td>47</td>\n",
       "      <td>71</td>\n",
       "      <td>78</td>\n",
       "      <td>81</td>\n",
       "      <td>85</td>\n",
       "      <td>4</td>\n",
       "      <td>35</td>\n",
       "      <td>...</td>\n",
       "      <td>0</td>\n",
       "      <td>0</td>\n",
       "      <td>0</td>\n",
       "      <td>0</td>\n",
       "      <td>0</td>\n",
       "      <td>0</td>\n",
       "      <td>0</td>\n",
       "      <td>0</td>\n",
       "      <td>0</td>\n",
       "      <td>0</td>\n",
       "    </tr>\n",
       "    <tr>\n",
       "      <th>992719</th>\n",
       "      <td>2</td>\n",
       "      <td>2</td>\n",
       "      <td>2</td>\n",
       "      <td>2</td>\n",
       "      <td>2</td>\n",
       "      <td>2</td>\n",
       "      <td>2</td>\n",
       "      <td>2</td>\n",
       "      <td>3</td>\n",
       "      <td>3</td>\n",
       "      <td>...</td>\n",
       "      <td>0</td>\n",
       "      <td>0</td>\n",
       "      <td>0</td>\n",
       "      <td>0</td>\n",
       "      <td>0</td>\n",
       "      <td>0</td>\n",
       "      <td>0</td>\n",
       "      <td>0</td>\n",
       "      <td>0</td>\n",
       "      <td>0</td>\n",
       "    </tr>\n",
       "    <tr>\n",
       "      <th>426086</th>\n",
       "      <td>2</td>\n",
       "      <td>2</td>\n",
       "      <td>2</td>\n",
       "      <td>2</td>\n",
       "      <td>2</td>\n",
       "      <td>2</td>\n",
       "      <td>2</td>\n",
       "      <td>2</td>\n",
       "      <td>3</td>\n",
       "      <td>3</td>\n",
       "      <td>...</td>\n",
       "      <td>0</td>\n",
       "      <td>0</td>\n",
       "      <td>0</td>\n",
       "      <td>0</td>\n",
       "      <td>0</td>\n",
       "      <td>0</td>\n",
       "      <td>0</td>\n",
       "      <td>0</td>\n",
       "      <td>0</td>\n",
       "      <td>0</td>\n",
       "    </tr>\n",
       "  </tbody>\n",
       "</table>\n",
       "<p>824480 rows × 32 columns</p>\n",
       "</div>"
      ],
      "text/plain": [
       "         sessions1  sessions2  sessions3  sessions4  sessions5  sessions6  \\\n",
       "941782           1          1         19         31         61        109   \n",
       "466960           1          5          5          5          5          5   \n",
       "704609           6         24         39         46         61         66   \n",
       "973929           8         18         33         45         52         62   \n",
       "973936           0          0          0          0          0          0   \n",
       "...            ...        ...        ...        ...        ...        ...   \n",
       "856396           2          2          2          2          2          2   \n",
       "1169917          0          0          0          0          1          1   \n",
       "1048916          4         35         42         47         71         78   \n",
       "992719           2          2          2          2          2          2   \n",
       "426086           2          2          2          2          2          2   \n",
       "\n",
       "         sessions7  sessions8  launches1  launches2  ...  num_payments7  \\\n",
       "941782         136        147          1          1  ...              0   \n",
       "466960           5          5          1          6  ...              0   \n",
       "704609          68         68          6         24  ...              0   \n",
       "973929          69         71          8         18  ...              0   \n",
       "973936           0          0          1          1  ...              0   \n",
       "...            ...        ...        ...        ...  ...            ...   \n",
       "856396           2          2          3          3  ...              0   \n",
       "1169917          1          1          0          0  ...              0   \n",
       "1048916         81         85          4         35  ...              0   \n",
       "992719           2          2          3          3  ...              0   \n",
       "426086           2          2          3          3  ...              0   \n",
       "\n",
       "         num_payments8  sum_payments1  sum_payments2  sum_payments3  \\\n",
       "941782               0              0              0              0   \n",
       "466960               0              0              0              0   \n",
       "704609               0              0              0              0   \n",
       "973929               0              0              0              0   \n",
       "973936               0              0              0              0   \n",
       "...                ...            ...            ...            ...   \n",
       "856396               0              0              0              0   \n",
       "1169917              0              0              0              0   \n",
       "1048916              0              0              0              0   \n",
       "992719               0              0              0              0   \n",
       "426086               0              0              0              0   \n",
       "\n",
       "         sum_payments4  sum_payments5  sum_payments6  sum_payments7  \\\n",
       "941782               0              0              0              0   \n",
       "466960               0              0              0              0   \n",
       "704609               0              0              0              0   \n",
       "973929               0              0              0              0   \n",
       "973936               0              0              0              0   \n",
       "...                ...            ...            ...            ...   \n",
       "856396               0              0              0              0   \n",
       "1169917              0              0              0              0   \n",
       "1048916              0              0              0              0   \n",
       "992719               0              0              0              0   \n",
       "426086               0              0              0              0   \n",
       "\n",
       "         sum_payments8  \n",
       "941782               0  \n",
       "466960               0  \n",
       "704609               0  \n",
       "973929               0  \n",
       "973936               0  \n",
       "...                ...  \n",
       "856396               0  \n",
       "1169917              0  \n",
       "1048916              0  \n",
       "992719               0  \n",
       "426086               0  \n",
       "\n",
       "[824480 rows x 32 columns]"
      ]
     },
     "execution_count": 4,
     "metadata": {},
     "output_type": "execute_result"
    }
   ],
   "source": [
    "X_train"
   ]
  },
  {
   "cell_type": "code",
   "execution_count": 5,
   "id": "54a10fe2",
   "metadata": {},
   "outputs": [
    {
     "data": {
      "text/plain": [
       "False    775124\n",
       "True      49356\n",
       "Name: sum_payments8, dtype: int64"
      ]
     },
     "execution_count": 5,
     "metadata": {},
     "output_type": "execute_result"
    }
   ],
   "source": [
    "(X_train['sum_payments8'] > 0).value_counts()"
   ]
  },
  {
   "cell_type": "code",
   "execution_count": 6,
   "id": "7f1207a5",
   "metadata": {},
   "outputs": [
    {
     "data": {
      "text/plain": [
       "Index(['sessions1', 'sessions2', 'sessions3', 'sessions4', 'sessions5',\n",
       "       'sessions6', 'sessions7', 'sessions8', 'launches1', 'launches2',\n",
       "       'launches3', 'launches4', 'launches5', 'launches6', 'launches7',\n",
       "       'launches8', 'num_payments1', 'num_payments2', 'num_payments3',\n",
       "       'num_payments4', 'num_payments5', 'num_payments6', 'num_payments7',\n",
       "       'num_payments8', 'sum_payments1', 'sum_payments2', 'sum_payments3',\n",
       "       'sum_payments4', 'sum_payments5', 'sum_payments6', 'sum_payments7',\n",
       "       'sum_payments8'],\n",
       "      dtype='object')"
      ]
     },
     "execution_count": 6,
     "metadata": {},
     "output_type": "execute_result"
    }
   ],
   "source": [
    "X_train.columns"
   ]
  },
  {
   "cell_type": "code",
   "execution_count": 7,
   "id": "1a309609",
   "metadata": {},
   "outputs": [
    {
     "data": {
      "text/plain": [
       "(0.0763147680962546, 0.06944409068654503)"
      ]
     },
     "execution_count": 7,
     "metadata": {},
     "output_type": "execute_result"
    }
   ],
   "source": [
    "y_train.mean() , y_valid.mean()"
   ]
  },
  {
   "cell_type": "code",
   "execution_count": 8,
   "id": "7292630e",
   "metadata": {},
   "outputs": [],
   "source": [
    "from sklearn.ensemble import RandomForestClassifier\n",
    "from sklearn.linear_model import LogisticRegression"
   ]
  },
  {
   "cell_type": "code",
   "execution_count": 9,
   "id": "099fa4de",
   "metadata": {},
   "outputs": [],
   "source": [
    "forest = RandomForestClassifier(n_estimators=300, class_weight='balanced',n_jobs=4,random_state=17)"
   ]
  },
  {
   "cell_type": "code",
   "execution_count": 10,
   "id": "2a6940f3",
   "metadata": {},
   "outputs": [
    {
     "name": "stdout",
     "output_type": "stream",
     "text": [
      "Wall time: 3min 37s\n"
     ]
    },
    {
     "data": {
      "text/plain": [
       "RandomForestClassifier(class_weight='balanced', n_estimators=300, n_jobs=4,\n",
       "                       random_state=17)"
      ]
     },
     "execution_count": 10,
     "metadata": {},
     "output_type": "execute_result"
    }
   ],
   "source": [
    "%%time\n",
    "forest.fit(X_train,y_train)"
   ]
  },
  {
   "cell_type": "code",
   "execution_count": 11,
   "id": "3502723f",
   "metadata": {},
   "outputs": [],
   "source": [
    "forest_pred_probs = forest.predict_proba(X_valid)[:,1]"
   ]
  },
  {
   "cell_type": "code",
   "execution_count": 12,
   "id": "3946023e",
   "metadata": {},
   "outputs": [],
   "source": [
    "from sklearn.metrics import accuracy_score , precision_score , recall_score\n",
    "from sklearn.metrics import roc_auc_score"
   ]
  },
  {
   "cell_type": "code",
   "execution_count": 18,
   "id": "de27cae9",
   "metadata": {},
   "outputs": [],
   "source": [
    "#**Is That Good**"
   ]
  },
  {
   "cell_type": "code",
   "execution_count": 13,
   "id": "d2d9399f",
   "metadata": {},
   "outputs": [
    {
     "data": {
      "text/plain": [
       "0.9644760596195973"
      ]
     },
     "execution_count": 13,
     "metadata": {},
     "output_type": "execute_result"
    }
   ],
   "source": [
    "roc_auc_score(y_valid,forest_pred_probs)"
   ]
  },
  {
   "cell_type": "code",
   "execution_count": 19,
   "id": "b7dbb577",
   "metadata": {},
   "outputs": [],
   "source": [
    "# baseline"
   ]
  },
  {
   "cell_type": "code",
   "execution_count": 14,
   "id": "6d2d0fe2",
   "metadata": {},
   "outputs": [
    {
     "data": {
      "text/plain": [
       "0.9879156301560214"
      ]
     },
     "execution_count": 14,
     "metadata": {},
     "output_type": "execute_result"
    }
   ],
   "source": [
    "accuracy_score(y_valid , X_valid['sum_payments8'] > 0)"
   ]
  },
  {
   "cell_type": "code",
   "execution_count": 20,
   "id": "9fa2d986",
   "metadata": {},
   "outputs": [
    {
     "data": {
      "text/plain": [
       "0.9857308213692412"
      ]
     },
     "execution_count": 20,
     "metadata": {},
     "output_type": "execute_result"
    }
   ],
   "source": [
    "accuracy_score(y_valid , forest_pred_probs > 0.5)"
   ]
  },
  {
   "cell_type": "code",
   "execution_count": 21,
   "id": "78d19051",
   "metadata": {},
   "outputs": [],
   "source": [
    "# the model here have accuracy less than our baseline which is 0.9879 and we have 0.98573 so accuracy \n",
    "# can be misleading"
   ]
  },
  {
   "cell_type": "code",
   "execution_count": 22,
   "id": "551ffb9f",
   "metadata": {},
   "outputs": [],
   "source": [
    "pred_df = pd.DataFrame({'true': y_valid , 'pred_forest': forest_pred_probs,\n",
    "             'pred_baseline': (X_valid['sum_payments8'] > 0).astype('int') })"
   ]
  },
  {
   "cell_type": "code",
   "execution_count": 23,
   "id": "f26a5408",
   "metadata": {},
   "outputs": [],
   "source": [
    "pred_df.sort_values(by='pred_forest',ascending=False, inplace=True)"
   ]
  },
  {
   "cell_type": "code",
   "execution_count": 24,
   "id": "64a72878",
   "metadata": {},
   "outputs": [
    {
     "data": {
      "text/html": [
       "<div>\n",
       "<style scoped>\n",
       "    .dataframe tbody tr th:only-of-type {\n",
       "        vertical-align: middle;\n",
       "    }\n",
       "\n",
       "    .dataframe tbody tr th {\n",
       "        vertical-align: top;\n",
       "    }\n",
       "\n",
       "    .dataframe thead th {\n",
       "        text-align: right;\n",
       "    }\n",
       "</style>\n",
       "<table border=\"1\" class=\"dataframe\">\n",
       "  <thead>\n",
       "    <tr style=\"text-align: right;\">\n",
       "      <th></th>\n",
       "      <th>true</th>\n",
       "      <th>pred_forest</th>\n",
       "      <th>pred_baseline</th>\n",
       "    </tr>\n",
       "  </thead>\n",
       "  <tbody>\n",
       "    <tr>\n",
       "      <th>69935</th>\n",
       "      <td>1</td>\n",
       "      <td>1.0</td>\n",
       "      <td>1</td>\n",
       "    </tr>\n",
       "    <tr>\n",
       "      <th>23380</th>\n",
       "      <td>1</td>\n",
       "      <td>1.0</td>\n",
       "      <td>1</td>\n",
       "    </tr>\n",
       "    <tr>\n",
       "      <th>33460</th>\n",
       "      <td>1</td>\n",
       "      <td>1.0</td>\n",
       "      <td>1</td>\n",
       "    </tr>\n",
       "    <tr>\n",
       "      <th>80701</th>\n",
       "      <td>1</td>\n",
       "      <td>1.0</td>\n",
       "      <td>1</td>\n",
       "    </tr>\n",
       "    <tr>\n",
       "      <th>239</th>\n",
       "      <td>1</td>\n",
       "      <td>1.0</td>\n",
       "      <td>1</td>\n",
       "    </tr>\n",
       "  </tbody>\n",
       "</table>\n",
       "</div>"
      ],
      "text/plain": [
       "       true  pred_forest  pred_baseline\n",
       "69935     1          1.0              1\n",
       "23380     1          1.0              1\n",
       "33460     1          1.0              1\n",
       "80701     1          1.0              1\n",
       "239       1          1.0              1"
      ]
     },
     "execution_count": 24,
     "metadata": {},
     "output_type": "execute_result"
    }
   ],
   "source": [
    "pred_df.head()"
   ]
  },
  {
   "cell_type": "code",
   "execution_count": 28,
   "id": "ff113746",
   "metadata": {},
   "outputs": [
    {
     "data": {
      "text/plain": [
       "(353349,)"
      ]
     },
     "execution_count": 28,
     "metadata": {},
     "output_type": "execute_result"
    }
   ],
   "source": [
    "y_valid.shape"
   ]
  },
  {
   "cell_type": "code",
   "execution_count": 29,
   "id": "9a01b054",
   "metadata": {},
   "outputs": [
    {
     "data": {
      "text/plain": [
       "6.2948480666721"
      ]
     },
     "execution_count": 29,
     "metadata": {},
     "output_type": "execute_result"
    }
   ],
   "source": [
    "pred_df.iloc[:50000]['true'].mean() / y_valid.mean() "
   ]
  },
  {
   "cell_type": "code",
   "execution_count": 26,
   "id": "762e6724",
   "metadata": {},
   "outputs": [
    {
     "data": {
      "text/plain": [
       "0.06944409068654503"
      ]
     },
     "execution_count": 26,
     "metadata": {},
     "output_type": "execute_result"
    }
   ],
   "source": [
    "y_valid.mean() "
   ]
  },
  {
   "cell_type": "code",
   "execution_count": 31,
   "id": "5f152802",
   "metadata": {},
   "outputs": [
    {
     "data": {
      "text/plain": [
       "5.87321391881979"
      ]
     },
     "execution_count": 31,
     "metadata": {},
     "output_type": "execute_result"
    }
   ],
   "source": [
    "pred_df.sort_values(by='pred_baseline',ascending=False).iloc[:50000]['true'].mean() / y_valid.mean() "
   ]
  },
  {
   "cell_type": "code",
   "execution_count": 32,
   "id": "d7362c40",
   "metadata": {},
   "outputs": [],
   "source": [
    "# precision and recall"
   ]
  },
  {
   "cell_type": "code",
   "execution_count": 33,
   "id": "85aa3976",
   "metadata": {},
   "outputs": [
    {
     "data": {
      "text/plain": [
       "(0.9613782658084059, 1.0)"
      ]
     },
     "execution_count": 33,
     "metadata": {},
     "output_type": "execute_result"
    }
   ],
   "source": [
    "precision_score(y_valid,forest_pred_probs > 0.5), \\\n",
    "    precision_score(y_valid,X_valid['sum_payments8'] > 0)"
   ]
  },
  {
   "cell_type": "code",
   "execution_count": 34,
   "id": "b2c03b61",
   "metadata": {},
   "outputs": [
    {
     "data": {
      "text/plain": [
       "(0.8277773249653598, 0.825984187790366)"
      ]
     },
     "execution_count": 34,
     "metadata": {},
     "output_type": "execute_result"
    }
   ],
   "source": [
    "recall_score(y_valid,forest_pred_probs > 0.5), \\\n",
    "    recall_score(y_valid,X_valid['sum_payments8'] > 0)"
   ]
  },
  {
   "cell_type": "code",
   "execution_count": 36,
   "id": "c5788ea7",
   "metadata": {},
   "outputs": [],
   "source": [
    "from sklearn.metrics import f1_score"
   ]
  },
  {
   "cell_type": "code",
   "execution_count": 37,
   "id": "7602da4b",
   "metadata": {},
   "outputs": [
    {
     "data": {
      "text/plain": [
       "(0.8895896290456795, 0.904700263357586)"
      ]
     },
     "execution_count": 37,
     "metadata": {},
     "output_type": "execute_result"
    }
   ],
   "source": [
    "f1_score(y_valid,forest_pred_probs > 0.5), \\\n",
    "    f1_score(y_valid,X_valid['sum_payments8'] > 0)"
   ]
  },
  {
   "cell_type": "code",
   "execution_count": 42,
   "id": "a48834eb",
   "metadata": {},
   "outputs": [
    {
     "name": "stdout",
     "output_type": "stream",
     "text": [
      "Collecting funcsigs\n",
      "  Downloading funcsigs-1.0.2-py2.py3-none-any.whl (17 kB)\n",
      "Installing collected packages: funcsigs\n",
      "Successfully installed funcsigs-1.0.2\n",
      "Note: you may need to restart the kernel to use updated packages.\n"
     ]
    }
   ],
   "source": [
    "pip install funcsigs"
   ]
  },
  {
   "cell_type": "code",
   "execution_count": 43,
   "id": "1f3ad5ca",
   "metadata": {},
   "outputs": [
    {
     "data": {
      "image/png": "[encoded data removed]",
      "text/plain": [
       "<Figure size 432x288 with 1 Axes>"
      ]
     },
     "metadata": {
      "needs_background": "light"
     },
     "output_type": "display_data"
    }
   ],
   "source": [
    "from sklearn.metrics import precision_recall_curve\n",
    "from funcsigs import signature\n",
    "\n",
    "precision, recall, thres = precision_recall_curve(y_valid, forest_pred_probs)\n",
    "    \n",
    "step_kwargs = ({'step': 'post'}\n",
    "               if 'step' in signature(plt.fill_between).parameters\n",
    "               else {})\n",
    "plt.step(recall, precision, color='b', alpha=0.2,\n",
    "         where='post')\n",
    "plt.fill_between(recall, precision, alpha=0.2, color='b', **step_kwargs)\n",
    "\n",
    "plt.xlabel('Recall')\n",
    "plt.ylabel('Precision')\n",
    "plt.ylim([0.0, 1.05])\n",
    "plt.hlines(y=0.5, xmin=0, xmax=1)\n",
    "plt.xlim([0.0, 1.0])\n",
    "plt.title('2-class Precision-Recall curve: Random Forest');"
   ]
  },
  {
   "cell_type": "code",
   "execution_count": 50,
   "id": "840a6654",
   "metadata": {},
   "outputs": [
    {
     "data": {
      "text/plain": [
       "(0.08405450384855419, 0.9879778303040183)"
      ]
     },
     "execution_count": 50,
     "metadata": {},
     "output_type": "execute_result"
    }
   ],
   "source": [
    "tau = 0\n",
    "precision_score(y_valid,forest_pred_probs > tau), \\\n",
    "recall_score(y_valid,forest_pred_probs > tau)"
   ]
  },
  {
   "cell_type": "code",
   "execution_count": 51,
   "id": "7cea7523",
   "metadata": {},
   "outputs": [
    {
     "data": {
      "image/png": "[encoded data removed]",
      "text/plain": [
       "<Figure size 432x288 with 1 Axes>"
      ]
     },
     "metadata": {
      "needs_background": "light"
     },
     "output_type": "display_data"
    }
   ],
   "source": [
    "plt.plot(thres, precision[:-1], label='precision')\n",
    "plt.plot(thres, recall[:-1], label='recall');\n",
    "plt.hlines(y=0.5, xmin=0, xmax=1, label='min. precision', linestyles='dashed')\n",
    "plt.vlines(x=0.194, ymin=0, ymax=1, color='red', label='opt. threshold', linestyles='dashed')\n",
    "plt.legend();\n",
    "plt.xlabel('threshold')\n",
    "plt.ylabel('metric');"
   ]
  },
  {
   "cell_type": "code",
   "execution_count": 52,
   "id": "6d0a6c14",
   "metadata": {},
   "outputs": [
    {
     "data": {
      "text/plain": [
       "(0.5011045309268659, 0.8689787268726058)"
      ]
     },
     "execution_count": 52,
     "metadata": {},
     "output_type": "execute_result"
    }
   ],
   "source": [
    "precision_score(y_valid,forest_pred_probs > 0.194), \\\n",
    "recall_score(y_valid,forest_pred_probs > 0.194)"
   ]
  },
  {
   "cell_type": "code",
   "execution_count": 53,
   "id": "c9dd7dec",
   "metadata": {},
   "outputs": [
    {
     "data": {
      "text/plain": [
       "(1.0, 0.825984187790366)"
      ]
     },
     "execution_count": 53,
     "metadata": {},
     "output_type": "execute_result"
    }
   ],
   "source": [
    "precision_score(y_valid,X_valid['sum_payments8'] > 0), \\\n",
    "recall_score(y_valid,X_valid['sum_payments8'] > 0)"
   ]
  },
  {
   "cell_type": "code",
   "execution_count": 54,
   "id": "7e0a977e",
   "metadata": {},
   "outputs": [
    {
     "data": {
      "text/plain": [
       "(array([2.97087e+05, 1.38980e+04, 7.23300e+03, 5.28700e+03, 8.71500e+03,\n",
       "        4.24000e+02, 2.48000e+02, 1.80000e+02, 1.20000e+01, 2.02650e+04]),\n",
       " array([0. , 0.1, 0.2, 0.3, 0.4, 0.5, 0.6, 0.7, 0.8, 0.9, 1. ]),\n",
       " <BarContainer object of 10 artists>)"
      ]
     },
     "execution_count": 54,
     "metadata": {},
     "output_type": "execute_result"
    },
    {
     "data": {
      "image/png": "[encoded data removed]",
      "text/plain": [
       "<Figure size 432x288 with 1 Axes>"
      ]
     },
     "metadata": {
      "needs_background": "light"
     },
     "output_type": "display_data"
    }
   ],
   "source": [
    "plt.hist(forest_pred_probs)"
   ]
  },
  {
   "cell_type": "code",
   "execution_count": 55,
   "id": "af6417e0",
   "metadata": {},
   "outputs": [],
   "source": [
    "# feature importance"
   ]
  },
  {
   "cell_type": "code",
   "execution_count": 59,
   "id": "959bb1d8",
   "metadata": {},
   "outputs": [
    {
     "data": {
      "text/html": [
       "<div>\n",
       "<style scoped>\n",
       "    .dataframe tbody tr th:only-of-type {\n",
       "        vertical-align: middle;\n",
       "    }\n",
       "\n",
       "    .dataframe tbody tr th {\n",
       "        vertical-align: top;\n",
       "    }\n",
       "\n",
       "    .dataframe thead th {\n",
       "        text-align: right;\n",
       "    }\n",
       "</style>\n",
       "<table border=\"1\" class=\"dataframe\">\n",
       "  <thead>\n",
       "    <tr style=\"text-align: right;\">\n",
       "      <th></th>\n",
       "      <th>importance</th>\n",
       "    </tr>\n",
       "  </thead>\n",
       "  <tbody>\n",
       "    <tr>\n",
       "      <th>num_payments8</th>\n",
       "      <td>0.121069</td>\n",
       "    </tr>\n",
       "    <tr>\n",
       "      <th>sum_payments8</th>\n",
       "      <td>0.116459</td>\n",
       "    </tr>\n",
       "    <tr>\n",
       "      <th>sum_payments7</th>\n",
       "      <td>0.073057</td>\n",
       "    </tr>\n",
       "    <tr>\n",
       "      <th>num_payments7</th>\n",
       "      <td>0.072743</td>\n",
       "    </tr>\n",
       "    <tr>\n",
       "      <th>num_payments6</th>\n",
       "      <td>0.062400</td>\n",
       "    </tr>\n",
       "    <tr>\n",
       "      <th>sum_payments6</th>\n",
       "      <td>0.043248</td>\n",
       "    </tr>\n",
       "    <tr>\n",
       "      <th>launches8</th>\n",
       "      <td>0.040391</td>\n",
       "    </tr>\n",
       "    <tr>\n",
       "      <th>sessions8</th>\n",
       "      <td>0.040025</td>\n",
       "    </tr>\n",
       "    <tr>\n",
       "      <th>sum_payments5</th>\n",
       "      <td>0.037349</td>\n",
       "    </tr>\n",
       "    <tr>\n",
       "      <th>num_payments5</th>\n",
       "      <td>0.033809</td>\n",
       "    </tr>\n",
       "    <tr>\n",
       "      <th>launches7</th>\n",
       "      <td>0.029048</td>\n",
       "    </tr>\n",
       "    <tr>\n",
       "      <th>num_payments4</th>\n",
       "      <td>0.026428</td>\n",
       "    </tr>\n",
       "    <tr>\n",
       "      <th>sessions7</th>\n",
       "      <td>0.026063</td>\n",
       "    </tr>\n",
       "    <tr>\n",
       "      <th>launches6</th>\n",
       "      <td>0.021754</td>\n",
       "    </tr>\n",
       "    <tr>\n",
       "      <th>sessions6</th>\n",
       "      <td>0.021379</td>\n",
       "    </tr>\n",
       "    <tr>\n",
       "      <th>num_payments3</th>\n",
       "      <td>0.020429</td>\n",
       "    </tr>\n",
       "    <tr>\n",
       "      <th>sum_payments4</th>\n",
       "      <td>0.020208</td>\n",
       "    </tr>\n",
       "    <tr>\n",
       "      <th>launches5</th>\n",
       "      <td>0.018788</td>\n",
       "    </tr>\n",
       "    <tr>\n",
       "      <th>launches4</th>\n",
       "      <td>0.017219</td>\n",
       "    </tr>\n",
       "    <tr>\n",
       "      <th>sessions5</th>\n",
       "      <td>0.017003</td>\n",
       "    </tr>\n",
       "    <tr>\n",
       "      <th>launches2</th>\n",
       "      <td>0.015660</td>\n",
       "    </tr>\n",
       "    <tr>\n",
       "      <th>launches3</th>\n",
       "      <td>0.015499</td>\n",
       "    </tr>\n",
       "    <tr>\n",
       "      <th>sessions4</th>\n",
       "      <td>0.015423</td>\n",
       "    </tr>\n",
       "    <tr>\n",
       "      <th>sessions3</th>\n",
       "      <td>0.014648</td>\n",
       "    </tr>\n",
       "    <tr>\n",
       "      <th>sessions2</th>\n",
       "      <td>0.014125</td>\n",
       "    </tr>\n",
       "    <tr>\n",
       "      <th>launches1</th>\n",
       "      <td>0.013322</td>\n",
       "    </tr>\n",
       "    <tr>\n",
       "      <th>sessions1</th>\n",
       "      <td>0.012983</td>\n",
       "    </tr>\n",
       "    <tr>\n",
       "      <th>sum_payments3</th>\n",
       "      <td>0.012791</td>\n",
       "    </tr>\n",
       "    <tr>\n",
       "      <th>num_payments2</th>\n",
       "      <td>0.011719</td>\n",
       "    </tr>\n",
       "    <tr>\n",
       "      <th>sum_payments2</th>\n",
       "      <td>0.007296</td>\n",
       "    </tr>\n",
       "    <tr>\n",
       "      <th>num_payments1</th>\n",
       "      <td>0.004784</td>\n",
       "    </tr>\n",
       "    <tr>\n",
       "      <th>sum_payments1</th>\n",
       "      <td>0.002883</td>\n",
       "    </tr>\n",
       "  </tbody>\n",
       "</table>\n",
       "</div>"
      ],
      "text/plain": [
       "               importance\n",
       "num_payments8    0.121069\n",
       "sum_payments8    0.116459\n",
       "sum_payments7    0.073057\n",
       "num_payments7    0.072743\n",
       "num_payments6    0.062400\n",
       "sum_payments6    0.043248\n",
       "launches8        0.040391\n",
       "sessions8        0.040025\n",
       "sum_payments5    0.037349\n",
       "num_payments5    0.033809\n",
       "launches7        0.029048\n",
       "num_payments4    0.026428\n",
       "sessions7        0.026063\n",
       "launches6        0.021754\n",
       "sessions6        0.021379\n",
       "num_payments3    0.020429\n",
       "sum_payments4    0.020208\n",
       "launches5        0.018788\n",
       "launches4        0.017219\n",
       "sessions5        0.017003\n",
       "launches2        0.015660\n",
       "launches3        0.015499\n",
       "sessions4        0.015423\n",
       "sessions3        0.014648\n",
       "sessions2        0.014125\n",
       "launches1        0.013322\n",
       "sessions1        0.012983\n",
       "sum_payments3    0.012791\n",
       "num_payments2    0.011719\n",
       "sum_payments2    0.007296\n",
       "num_payments1    0.004784\n",
       "sum_payments1    0.002883"
      ]
     },
     "execution_count": 59,
     "metadata": {},
     "output_type": "execute_result"
    }
   ],
   "source": [
    "pd.DataFrame(forest.feature_importances_ , index=X_train.columns ,columns=['importance']).sort_values(by='importance',\n",
    "                                                                                                     ascending=False)"
   ]
  },
  {
   "cell_type": "code",
   "execution_count": 60,
   "id": "04f064ed",
   "metadata": {},
   "outputs": [],
   "source": [
    "from sklearn.metrics import confusion_matrix"
   ]
  },
  {
   "cell_type": "code",
   "execution_count": 61,
   "id": "d4939017",
   "metadata": {},
   "outputs": [],
   "source": [
    "def plot_confusion_matrix(actual, predicted, classes,\n",
    "                          normalize=False,\n",
    "                          title='Confusion matrix', figsize=(7,7),\n",
    "                          cmap=plt.cm.Blues, path_to_save_fig=None):\n",
    "    \"\"\"\n",
    "    This function prints and plots the confusion matrix.\n",
    "    Normalization can be applied by setting `normalize=True`.\n",
    "    \"\"\"\n",
    "    cm = confusion_matrix(actual, predicted).T\n",
    "    if normalize:\n",
    "        cm = cm.astype('float') / cm.sum(axis=1)[:, np.newaxis]\n",
    "    \n",
    "    plt.figure(figsize=figsize)\n",
    "    plt.imshow(cm, interpolation='nearest', cmap=cmap)\n",
    "    plt.title(title)\n",
    "    plt.colorbar()\n",
    "    tick_marks = np.arange(len(classes))\n",
    "    plt.xticks(tick_marks, classes, rotation=90)\n",
    "    plt.yticks(tick_marks, classes)\n",
    "\n",
    "    fmt = '.2f' if normalize else 'd'\n",
    "    thresh = cm.max() / 2.\n",
    "    for i, j in itertools.product(range(cm.shape[0]), range(cm.shape[1])):\n",
    "        plt.text(j, i, format(cm[i, j], fmt),\n",
    "                 horizontalalignment=\"center\",\n",
    "                 color=\"white\" if cm[i, j] > thresh else \"black\")\n",
    "\n",
    "    plt.tight_layout()\n",
    "    plt.ylabel('Predicted label')\n",
    "    plt.xlabel('True label')\n",
    "    \n",
    "    if path_to_save_fig:\n",
    "        plt.savefig(path_to_save_fig, dpi=300, bbox_inches='tight')"
   ]
  },
  {
   "cell_type": "code",
   "execution_count": 64,
   "id": "95c58a94",
   "metadata": {},
   "outputs": [
    {
     "data": {
      "image/png": "[encoded data removed]",
      "text/plain": [
       "<Figure size 504x504 with 2 Axes>"
      ]
     },
     "metadata": {
      "needs_background": "light"
     },
     "output_type": "display_data"
    }
   ],
   "source": [
    "plot_confusion_matrix(actual=y_valid, predicted = X_valid['sum_payments8'] > 0,\n",
    "                     classes=forest.classes_)"
   ]
  },
  {
   "cell_type": "code",
   "execution_count": 65,
   "id": "38bafc02",
   "metadata": {},
   "outputs": [
    {
     "data": {
      "image/png": "[encoded data removed]",
      "text/plain": [
       "<Figure size 504x504 with 2 Axes>"
      ]
     },
     "metadata": {
      "needs_background": "light"
     },
     "output_type": "display_data"
    }
   ],
   "source": [
    "plot_confusion_matrix(actual=y_valid, predicted = forest_pred_probs > 0.5,\n",
    "                     classes=forest.classes_)"
   ]
  },
  {
   "cell_type": "code",
   "execution_count": 66,
   "id": "46fa8259",
   "metadata": {},
   "outputs": [
    {
     "data": {
      "image/png": "[encoded data removed]",
      "text/plain": [
       "<Figure size 504x504 with 2 Axes>"
      ]
     },
     "metadata": {
      "needs_background": "light"
     },
     "output_type": "display_data"
    }
   ],
   "source": [
    "plot_confusion_matrix(actual=y_valid, predicted = forest_pred_probs > 0.194,\n",
    "                     classes=forest.classes_)"
   ]
  },
  {
   "cell_type": "code",
   "execution_count": 68,
   "id": "dc7b738d",
   "metadata": {},
   "outputs": [],
   "source": [
    "## Logistic Regression"
   ]
  },
  {
   "cell_type": "code",
   "execution_count": 67,
   "id": "8087541d",
   "metadata": {},
   "outputs": [],
   "source": [
    "from sklearn.preprocessing import StandardScaler"
   ]
  },
  {
   "cell_type": "code",
   "execution_count": 69,
   "id": "a5d614a9",
   "metadata": {},
   "outputs": [],
   "source": [
    "scaler = StandardScaler()"
   ]
  },
  {
   "cell_type": "code",
   "execution_count": 72,
   "id": "179afb56",
   "metadata": {},
   "outputs": [],
   "source": [
    "X_train_scaled = scaler.fit_transform(X_train)\n",
    "X_valid_scaled = scaler.transform(X_valid)"
   ]
  },
  {
   "cell_type": "code",
   "execution_count": 73,
   "id": "55678dd0",
   "metadata": {},
   "outputs": [],
   "source": [
    "logit = LogisticRegression(n_jobs=4, random_state=17,class_weight='balanced',solver='sag')"
   ]
  },
  {
   "cell_type": "code",
   "execution_count": 74,
   "id": "bfdc48a9",
   "metadata": {},
   "outputs": [
    {
     "name": "stdout",
     "output_type": "stream",
     "text": [
      "Wall time: 1min 2s\n"
     ]
    },
    {
     "name": "stderr",
     "output_type": "stream",
     "text": [
      "C:\\Users\\Access\\anaconda3\\lib\\site-packages\\sklearn\\linear_model\\_sag.py:328: ConvergenceWarning: The max_iter was reached which means the coef_ did not converge\n",
      "  warnings.warn(\"The max_iter was reached which means \"\n"
     ]
    },
    {
     "data": {
      "text/plain": [
       "LogisticRegression(class_weight='balanced', n_jobs=4, random_state=17,\n",
       "                   solver='sag')"
      ]
     },
     "execution_count": 74,
     "metadata": {},
     "output_type": "execute_result"
    }
   ],
   "source": [
    "%%time\n",
    "logit.fit(X_train_scaled, y_train)"
   ]
  },
  {
   "cell_type": "code",
   "execution_count": 86,
   "id": "29ad0086",
   "metadata": {},
   "outputs": [],
   "source": [
    "logit_pred_probs = logit.predict_proba(X_valid_scaled)[:, 1]"
   ]
  },
  {
   "cell_type": "code",
   "execution_count": 87,
   "id": "196a5db7",
   "metadata": {},
   "outputs": [
    {
     "data": {
      "text/plain": [
       "array([0.08203672, 0.13398347, 0.0830235 , ..., 0.0830235 , 0.30489821,\n",
       "       0.0830235 ])"
      ]
     },
     "execution_count": 87,
     "metadata": {},
     "output_type": "execute_result"
    }
   ],
   "source": [
    "logit_pred_probs"
   ]
  },
  {
   "cell_type": "code",
   "execution_count": 90,
   "id": "22ce570f",
   "metadata": {},
   "outputs": [
    {
     "data": {
      "image/png": "[encoded data removed]",
      "text/plain": [
       "<Figure size 432x288 with 1 Axes>"
      ]
     },
     "metadata": {
      "needs_background": "light"
     },
     "output_type": "display_data"
    }
   ],
   "source": [
    "plt.hist(logit_pred_probs);"
   ]
  },
  {
   "cell_type": "code",
   "execution_count": 91,
   "id": "655946d4",
   "metadata": {},
   "outputs": [
    {
     "data": {
      "text/plain": [
       "0.9764940094392004"
      ]
     },
     "execution_count": 91,
     "metadata": {},
     "output_type": "execute_result"
    }
   ],
   "source": [
    "roc_auc_score(y_valid, logit_pred_probs)"
   ]
  },
  {
   "cell_type": "code",
   "execution_count": 92,
   "id": "2b663c7c",
   "metadata": {},
   "outputs": [
    {
     "data": {
      "text/plain": [
       "0.9879156301560214"
      ]
     },
     "execution_count": 92,
     "metadata": {},
     "output_type": "execute_result"
    }
   ],
   "source": [
    "accuracy_score(y_valid, X_valid['sum_payments8'] > 0)"
   ]
  },
  {
   "cell_type": "code",
   "execution_count": 93,
   "id": "b7038f21",
   "metadata": {},
   "outputs": [
    {
     "data": {
      "text/plain": [
       "0.9642449815904389"
      ]
     },
     "execution_count": 93,
     "metadata": {},
     "output_type": "execute_result"
    }
   ],
   "source": [
    "accuracy_score(y_valid, logit_pred_probs > 0.5)"
   ]
  },
  {
   "cell_type": "code",
   "execution_count": 94,
   "id": "83480f81",
   "metadata": {},
   "outputs": [],
   "source": [
    "pred_df = pd.DataFrame({'true': y_valid, 'pred_logit': logit_pred_probs, \n",
    "             'pred_baseline': (X_valid['sum_payments8'] > 0).astype('int')})"
   ]
  },
  {
   "cell_type": "code",
   "execution_count": 95,
   "id": "f869ce63",
   "metadata": {},
   "outputs": [
    {
     "data": {
      "text/html": [
       "<div>\n",
       "<style scoped>\n",
       "    .dataframe tbody tr th:only-of-type {\n",
       "        vertical-align: middle;\n",
       "    }\n",
       "\n",
       "    .dataframe tbody tr th {\n",
       "        vertical-align: top;\n",
       "    }\n",
       "\n",
       "    .dataframe thead th {\n",
       "        text-align: right;\n",
       "    }\n",
       "</style>\n",
       "<table border=\"1\" class=\"dataframe\">\n",
       "  <thead>\n",
       "    <tr style=\"text-align: right;\">\n",
       "      <th></th>\n",
       "      <th>true</th>\n",
       "      <th>pred_logit</th>\n",
       "      <th>pred_baseline</th>\n",
       "    </tr>\n",
       "  </thead>\n",
       "  <tbody>\n",
       "    <tr>\n",
       "      <th>62466</th>\n",
       "      <td>1</td>\n",
       "      <td>1.0</td>\n",
       "      <td>1</td>\n",
       "    </tr>\n",
       "    <tr>\n",
       "      <th>10587</th>\n",
       "      <td>1</td>\n",
       "      <td>1.0</td>\n",
       "      <td>1</td>\n",
       "    </tr>\n",
       "    <tr>\n",
       "      <th>32466</th>\n",
       "      <td>1</td>\n",
       "      <td>1.0</td>\n",
       "      <td>1</td>\n",
       "    </tr>\n",
       "    <tr>\n",
       "      <th>52663</th>\n",
       "      <td>1</td>\n",
       "      <td>1.0</td>\n",
       "      <td>1</td>\n",
       "    </tr>\n",
       "    <tr>\n",
       "      <th>52996</th>\n",
       "      <td>1</td>\n",
       "      <td>1.0</td>\n",
       "      <td>1</td>\n",
       "    </tr>\n",
       "  </tbody>\n",
       "</table>\n",
       "</div>"
      ],
      "text/plain": [
       "       true  pred_logit  pred_baseline\n",
       "62466     1         1.0              1\n",
       "10587     1         1.0              1\n",
       "32466     1         1.0              1\n",
       "52663     1         1.0              1\n",
       "52996     1         1.0              1"
      ]
     },
     "execution_count": 95,
     "metadata": {},
     "output_type": "execute_result"
    }
   ],
   "source": [
    "pred_df.sort_values(by='pred_logit', ascending=False, inplace=True)\n",
    "pred_df.head()"
   ]
  },
  {
   "cell_type": "code",
   "execution_count": 96,
   "id": "6e2bf5cf",
   "metadata": {},
   "outputs": [
    {
     "data": {
      "text/plain": [
       "6.4604489102616345"
      ]
     },
     "execution_count": 96,
     "metadata": {},
     "output_type": "execute_result"
    }
   ],
   "source": [
    "pred_df.iloc[:50000]['true'].mean() / y_valid.mean()"
   ]
  },
  {
   "cell_type": "code",
   "execution_count": 97,
   "id": "9fc9f7d1",
   "metadata": {},
   "outputs": [
    {
     "data": {
      "text/plain": [
       "5.840669753036107"
      ]
     },
     "execution_count": 97,
     "metadata": {},
     "output_type": "execute_result"
    }
   ],
   "source": [
    "pred_df.sort_values(by='pred_baseline', \n",
    "                    ascending=False).iloc[:50000]['true'].mean() / y_valid.mean()"
   ]
  },
  {
   "cell_type": "code",
   "execution_count": 98,
   "id": "dfdb7c45",
   "metadata": {},
   "outputs": [
    {
     "data": {
      "image/png": "[encoded data removed]",
      "text/plain": [
       "<Figure size 432x288 with 1 Axes>"
      ]
     },
     "metadata": {
      "needs_background": "light"
     },
     "output_type": "display_data"
    }
   ],
   "source": [
    "precision, recall, thres = precision_recall_curve(y_valid, logit_pred_probs)\n",
    "    \n",
    "step_kwargs = ({'step': 'post'}\n",
    "               if 'step' in signature(plt.fill_between).parameters\n",
    "               else {})\n",
    "plt.step(recall, precision, color='b', alpha=0.2,\n",
    "         where='post')\n",
    "plt.fill_between(recall, precision, alpha=0.2, color='b', **step_kwargs)\n",
    "\n",
    "plt.xlabel('Recall')\n",
    "plt.ylabel('Precision')\n",
    "plt.ylim([0.0, 1.05])\n",
    "plt.hlines(y=0.5, xmin=0, xmax=1)\n",
    "plt.xlim([0.0, 1.0])\n",
    "plt.title('2-class Precision-Recall curve: Logit');"
   ]
  },
  {
   "cell_type": "code",
   "execution_count": 99,
   "id": "5aa7113b",
   "metadata": {},
   "outputs": [
    {
     "data": {
      "image/png": "[encoded data removed]",
      "text/plain": [
       "<Figure size 432x288 with 1 Axes>"
      ]
     },
     "metadata": {
      "needs_background": "light"
     },
     "output_type": "display_data"
    }
   ],
   "source": [
    "plt.plot(thres, precision[:-1], label='precision')\n",
    "plt.plot(thres, recall[:-1], label='recall');\n",
    "plt.hlines(y=0.5, xmin=0, xmax=1, label='min. precision', linestyles='dashed')\n",
    "plt.vlines(x=0.29, ymin=0, ymax=1, color='red', label='opt. threshold', linestyles='dashed')\n",
    "plt.legend();\n",
    "plt.xlabel('threshold')\n",
    "plt.ylabel('metric');"
   ]
  },
  {
   "cell_type": "code",
   "execution_count": 100,
   "id": "96c8eaf4",
   "metadata": {},
   "outputs": [
    {
     "data": {
      "text/plain": [
       "(0.5012316662523447, 0.9038633955497596)"
      ]
     },
     "execution_count": 100,
     "metadata": {},
     "output_type": "execute_result"
    }
   ],
   "source": [
    "precision_score(y_valid, logit_pred_probs > 0.29), \\\n",
    "    recall_score(y_valid, logit_pred_probs > 0.29)"
   ]
  },
  {
   "cell_type": "code",
   "execution_count": 101,
   "id": "fb65ba5e",
   "metadata": {},
   "outputs": [
    {
     "data": {
      "text/plain": [
       "(1.0, 0.825984187790366)"
      ]
     },
     "execution_count": 101,
     "metadata": {},
     "output_type": "execute_result"
    }
   ],
   "source": [
    "precision_score(y_valid, X_valid['sum_payments8'] > 0),\\\n",
    "recall_score(y_valid, X_valid['sum_payments8'] > 0),"
   ]
  },
  {
   "cell_type": "code",
   "execution_count": 102,
   "id": "ddcc480d",
   "metadata": {},
   "outputs": [
    {
     "data": {
      "image/png": "[encoded data removed]",
      "text/plain": [
       "<Figure size 432x288 with 1 Axes>"
      ]
     },
     "metadata": {
      "needs_background": "light"
     },
     "output_type": "display_data"
    }
   ],
   "source": [
    "plt.hist(logit_pred_probs);"
   ]
  },
  {
   "cell_type": "code",
   "execution_count": 103,
   "id": "500b9d1e",
   "metadata": {},
   "outputs": [
    {
     "data": {
      "text/plain": [
       "array([[ 1.44535427,  0.95110193,  0.76704834,  0.63170105,  0.41422089,\n",
       "         0.2356445 ,  0.45486177,  1.60579952, -1.44298959, -1.0331285 ,\n",
       "        -0.83896913, -0.75986696, -0.83369335, -0.90983766, -0.60743031,\n",
       "         0.61919593,  0.73417284,  0.97506944,  1.1213277 ,  1.29049777,\n",
       "         1.47114655,  1.75726415,  2.24739711,  3.41536051,  0.16077928,\n",
       "         0.18582807,  0.20089323,  0.21857347,  0.23966277,  0.27491391,\n",
       "         0.33523726,  0.50292077]])"
      ]
     },
     "execution_count": 103,
     "metadata": {},
     "output_type": "execute_result"
    }
   ],
   "source": [
    "logit.coef_"
   ]
  },
  {
   "cell_type": "code",
   "execution_count": 105,
   "id": "d766647a",
   "metadata": {},
   "outputs": [
    {
     "data": {
      "text/html": [
       "<div>\n",
       "<style scoped>\n",
       "    .dataframe tbody tr th:only-of-type {\n",
       "        vertical-align: middle;\n",
       "    }\n",
       "\n",
       "    .dataframe tbody tr th {\n",
       "        vertical-align: top;\n",
       "    }\n",
       "\n",
       "    .dataframe thead th {\n",
       "        text-align: right;\n",
       "    }\n",
       "</style>\n",
       "<table border=\"1\" class=\"dataframe\">\n",
       "  <thead>\n",
       "    <tr style=\"text-align: right;\">\n",
       "      <th></th>\n",
       "      <th>coef</th>\n",
       "    </tr>\n",
       "  </thead>\n",
       "  <tbody>\n",
       "    <tr>\n",
       "      <th>num_payments8</th>\n",
       "      <td>3.415361</td>\n",
       "    </tr>\n",
       "    <tr>\n",
       "      <th>num_payments7</th>\n",
       "      <td>2.247397</td>\n",
       "    </tr>\n",
       "    <tr>\n",
       "      <th>num_payments6</th>\n",
       "      <td>1.757264</td>\n",
       "    </tr>\n",
       "    <tr>\n",
       "      <th>sessions8</th>\n",
       "      <td>1.605800</td>\n",
       "    </tr>\n",
       "    <tr>\n",
       "      <th>num_payments5</th>\n",
       "      <td>1.471147</td>\n",
       "    </tr>\n",
       "    <tr>\n",
       "      <th>sessions1</th>\n",
       "      <td>1.445354</td>\n",
       "    </tr>\n",
       "    <tr>\n",
       "      <th>num_payments4</th>\n",
       "      <td>1.290498</td>\n",
       "    </tr>\n",
       "    <tr>\n",
       "      <th>num_payments3</th>\n",
       "      <td>1.121328</td>\n",
       "    </tr>\n",
       "    <tr>\n",
       "      <th>num_payments2</th>\n",
       "      <td>0.975069</td>\n",
       "    </tr>\n",
       "    <tr>\n",
       "      <th>sessions2</th>\n",
       "      <td>0.951102</td>\n",
       "    </tr>\n",
       "    <tr>\n",
       "      <th>sessions3</th>\n",
       "      <td>0.767048</td>\n",
       "    </tr>\n",
       "    <tr>\n",
       "      <th>num_payments1</th>\n",
       "      <td>0.734173</td>\n",
       "    </tr>\n",
       "    <tr>\n",
       "      <th>sessions4</th>\n",
       "      <td>0.631701</td>\n",
       "    </tr>\n",
       "    <tr>\n",
       "      <th>launches8</th>\n",
       "      <td>0.619196</td>\n",
       "    </tr>\n",
       "    <tr>\n",
       "      <th>sum_payments8</th>\n",
       "      <td>0.502921</td>\n",
       "    </tr>\n",
       "    <tr>\n",
       "      <th>sessions7</th>\n",
       "      <td>0.454862</td>\n",
       "    </tr>\n",
       "    <tr>\n",
       "      <th>sessions5</th>\n",
       "      <td>0.414221</td>\n",
       "    </tr>\n",
       "    <tr>\n",
       "      <th>sum_payments7</th>\n",
       "      <td>0.335237</td>\n",
       "    </tr>\n",
       "    <tr>\n",
       "      <th>sum_payments6</th>\n",
       "      <td>0.274914</td>\n",
       "    </tr>\n",
       "    <tr>\n",
       "      <th>sum_payments5</th>\n",
       "      <td>0.239663</td>\n",
       "    </tr>\n",
       "    <tr>\n",
       "      <th>sessions6</th>\n",
       "      <td>0.235645</td>\n",
       "    </tr>\n",
       "    <tr>\n",
       "      <th>sum_payments4</th>\n",
       "      <td>0.218573</td>\n",
       "    </tr>\n",
       "    <tr>\n",
       "      <th>sum_payments3</th>\n",
       "      <td>0.200893</td>\n",
       "    </tr>\n",
       "    <tr>\n",
       "      <th>sum_payments2</th>\n",
       "      <td>0.185828</td>\n",
       "    </tr>\n",
       "    <tr>\n",
       "      <th>sum_payments1</th>\n",
       "      <td>0.160779</td>\n",
       "    </tr>\n",
       "    <tr>\n",
       "      <th>launches7</th>\n",
       "      <td>-0.607430</td>\n",
       "    </tr>\n",
       "    <tr>\n",
       "      <th>launches4</th>\n",
       "      <td>-0.759867</td>\n",
       "    </tr>\n",
       "    <tr>\n",
       "      <th>launches5</th>\n",
       "      <td>-0.833693</td>\n",
       "    </tr>\n",
       "    <tr>\n",
       "      <th>launches3</th>\n",
       "      <td>-0.838969</td>\n",
       "    </tr>\n",
       "    <tr>\n",
       "      <th>launches6</th>\n",
       "      <td>-0.909838</td>\n",
       "    </tr>\n",
       "    <tr>\n",
       "      <th>launches2</th>\n",
       "      <td>-1.033129</td>\n",
       "    </tr>\n",
       "    <tr>\n",
       "      <th>launches1</th>\n",
       "      <td>-1.442990</td>\n",
       "    </tr>\n",
       "  </tbody>\n",
       "</table>\n",
       "</div>"
      ],
      "text/plain": [
       "                   coef\n",
       "num_payments8  3.415361\n",
       "num_payments7  2.247397\n",
       "num_payments6  1.757264\n",
       "sessions8      1.605800\n",
       "num_payments5  1.471147\n",
       "sessions1      1.445354\n",
       "num_payments4  1.290498\n",
       "num_payments3  1.121328\n",
       "num_payments2  0.975069\n",
       "sessions2      0.951102\n",
       "sessions3      0.767048\n",
       "num_payments1  0.734173\n",
       "sessions4      0.631701\n",
       "launches8      0.619196\n",
       "sum_payments8  0.502921\n",
       "sessions7      0.454862\n",
       "sessions5      0.414221\n",
       "sum_payments7  0.335237\n",
       "sum_payments6  0.274914\n",
       "sum_payments5  0.239663\n",
       "sessions6      0.235645\n",
       "sum_payments4  0.218573\n",
       "sum_payments3  0.200893\n",
       "sum_payments2  0.185828\n",
       "sum_payments1  0.160779\n",
       "launches7     -0.607430\n",
       "launches4     -0.759867\n",
       "launches5     -0.833693\n",
       "launches3     -0.838969\n",
       "launches6     -0.909838\n",
       "launches2     -1.033129\n",
       "launches1     -1.442990"
      ]
     },
     "execution_count": 105,
     "metadata": {},
     "output_type": "execute_result"
    }
   ],
   "source": [
    "pd.DataFrame(logit.coef_.reshape(-1, 1), index=X_train.columns,\n",
    "             columns=['coef']).sort_values(by='coef',\n",
    "                                                ascending=False)"
   ]
  },
  {
   "cell_type": "code",
   "execution_count": 106,
   "id": "08617927",
   "metadata": {},
   "outputs": [
    {
     "data": {
      "image/png": "[encoded data removed]",
      "text/plain": [
       "<Figure size 504x504 with 2 Axes>"
      ]
     },
     "metadata": {
      "needs_background": "light"
     },
     "output_type": "display_data"
    }
   ],
   "source": [
    "plot_confusion_matrix(actual=y_valid, predicted=(logit_pred_probs > 0.29),\n",
    "                     classes=logit.classes_)"
   ]
  },
  {
   "cell_type": "code",
   "execution_count": null,
   "id": "bb28f1b7",
   "metadata": {},
   "outputs": [],
   "source": []
  }
 ],
 "metadata": {
  "kernelspec": {
   "display_name": "Python 3",
   "language": "python",
   "name": "python3"
  },
  "language_info": {
   "codemirror_mode": {
    "name": "ipython",
    "version": 3
   },
   "file_extension": ".py",
   "mimetype": "text/x-python",
   "name": "python",
   "nbconvert_exporter": "python",
   "pygments_lexer": "ipython3",
   "version": "3.8.8"
  }
 },
 "nbformat": 4,
 "nbformat_minor": 5
}
